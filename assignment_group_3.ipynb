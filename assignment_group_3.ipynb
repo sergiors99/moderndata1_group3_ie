{
 "cells": [
  {
   "cell_type": "markdown",
   "id": "5a779b68",
   "metadata": {},
   "source": [
    "# Group Assignment - Group 3"
   ]
  },
  {
   "cell_type": "markdown",
   "id": "b6e3f732",
   "metadata": {},
   "source": [
    "#### The aim of this project is to compare the mathematics class with the portuguese class in order to understand how several factors affect the students grades."
   ]
  },
  {
   "cell_type": "markdown",
   "id": "6c2654b8",
   "metadata": {},
   "source": [
    "### We first import what we need to work with the data and create the Spark session"
   ]
  },
  {
   "cell_type": "code",
   "execution_count": 1,
   "id": "e4a185c8",
   "metadata": {},
   "outputs": [
    {
     "name": "stderr",
     "output_type": "stream",
     "text": [
      "WARNING: An illegal reflective access operation has occurred\n",
      "WARNING: Illegal reflective access by org.apache.spark.unsafe.Platform (file:/opt/spark3/jars/spark-unsafe_2.12-3.2.1.jar) to constructor java.nio.DirectByteBuffer(long,int)\n",
      "WARNING: Please consider reporting this to the maintainers of org.apache.spark.unsafe.Platform\n",
      "WARNING: Use --illegal-access=warn to enable warnings of further illegal reflective access operations\n",
      "WARNING: All illegal access operations will be denied in a future release\n",
      "Setting default log level to \"WARN\".\n",
      "To adjust logging level use sc.setLogLevel(newLevel). For SparkR, use setLogLevel(newLevel).\n"
     ]
    }
   ],
   "source": [
    "import findspark\n",
    "findspark.init()\n",
    "\n",
    "import pandas as pd\n",
    "pd.set_option('display.max_colwidth', None)\n",
    "\n",
    "import os\n",
    "os.environ['PYSPARK_SUBMIT_ARGS'] = ' pyspark-shell'\n",
    "\n",
    "from pyspark.sql.session import SparkSession\n",
    "\n",
    "import pyspark.sql.functions as F\n",
    "\n",
    "spark = (SparkSession.builder\n",
    ".appName(\"Group 3 Assignment\")\n",
    ".config(\"spark.sql.warehouse.dir\",\"hdfs://localhost:9000/warehouse\")\n",
    ".getOrCreate())"
   ]
  },
  {
   "cell_type": "markdown",
   "id": "2156749e",
   "metadata": {},
   "source": [
    "### RAW to STD"
   ]
  },
  {
   "cell_type": "markdown",
   "id": "a0d60166",
   "metadata": {},
   "source": [
    "#### We modify the schema to adapt it to our work needs, after we save the files as .parquet in the std folder of our data lake"
   ]
  },
  {
   "cell_type": "code",
   "execution_count": 2,
   "id": "1a98c09a",
   "metadata": {},
   "outputs": [
    {
     "name": "stderr",
     "output_type": "stream",
     "text": [
      "                                                                                \r"
     ]
    }
   ],
   "source": [
    "articles_raw = (spark.read.option(\"inferSchema\", \"true\")\n",
    "                    .option(\"header\", \"true\")\n",
    "                    .csv(\"hdfs://localhost:9000/group_assignment/datalake/raw/articles\"))"
   ]
  },
  {
   "cell_type": "code",
   "execution_count": 3,
   "id": "7dc6f794",
   "metadata": {},
   "outputs": [
    {
     "name": "stderr",
     "output_type": "stream",
     "text": [
      "                                                                                \r"
     ]
    }
   ],
   "source": [
    "customers_raw = (spark.read.option(\"inferSchema\", \"true\")\n",
    "                    .option(\"header\", \"true\")\n",
    "                    .csv(\"hdfs://localhost:9000/group_assignment/datalake/raw/customers\"))"
   ]
  },
  {
   "cell_type": "code",
   "execution_count": 4,
   "id": "b78b34c3",
   "metadata": {},
   "outputs": [
    {
     "name": "stderr",
     "output_type": "stream",
     "text": [
      "                                                                                \r"
     ]
    }
   ],
   "source": [
    "transactions_raw = (spark.read.option(\"inferSchema\", \"true\")\n",
    "                    .option(\"header\", \"true\")\n",
    "                    .csv(\"hdfs://localhost:9000/group_assignment/datalake/raw/transactions\"))"
   ]
  },
  {
   "cell_type": "code",
   "execution_count": 5,
   "id": "4cdbd734",
   "metadata": {},
   "outputs": [
    {
     "name": "stdout",
     "output_type": "stream",
     "text": [
      "root\n",
      " |-- article_id: integer (nullable = true)\n",
      " |-- product_code: integer (nullable = true)\n",
      " |-- prod_name: string (nullable = true)\n",
      " |-- product_type_no: integer (nullable = true)\n",
      " |-- product_type_name: string (nullable = true)\n",
      " |-- product_group_name: string (nullable = true)\n",
      " |-- graphical_appearance_no: integer (nullable = true)\n",
      " |-- graphical_appearance_name: string (nullable = true)\n",
      " |-- colour_group_code: integer (nullable = true)\n",
      " |-- colour_group_name: string (nullable = true)\n",
      " |-- perceived_colour_value_id: integer (nullable = true)\n",
      " |-- perceived_colour_value_name: string (nullable = true)\n",
      " |-- perceived_colour_master_id: integer (nullable = true)\n",
      " |-- perceived_colour_master_name: string (nullable = true)\n",
      " |-- department_no: integer (nullable = true)\n",
      " |-- department_name: string (nullable = true)\n",
      " |-- index_code: string (nullable = true)\n",
      " |-- index_name: string (nullable = true)\n",
      " |-- index_group_no: integer (nullable = true)\n",
      " |-- index_group_name: string (nullable = true)\n",
      " |-- section_no: integer (nullable = true)\n",
      " |-- section_name: string (nullable = true)\n",
      " |-- garment_group_no: integer (nullable = true)\n",
      " |-- garment_group_name: string (nullable = true)\n",
      " |-- detail_desc: string (nullable = true)\n",
      "\n"
     ]
    }
   ],
   "source": [
    "articles_raw.printSchema()"
   ]
  },
  {
   "cell_type": "code",
   "execution_count": 6,
   "id": "cd369f2e",
   "metadata": {},
   "outputs": [],
   "source": [
    "articles_std = articles_raw.select(\n",
    "    F.col(\"article_id\").cast(\"string\"),\n",
    "    F.col(\"product_code\").cast(\"string\"),\n",
    "    F.col(\"prod_name\"),\n",
    "    F.col(\"product_type_no\").cast(\"string\"),\n",
    "    F.col(\"product_type_name\"),\n",
    "    F.col(\"product_group_name\"),\n",
    "    F.col(\"graphical_appearance_no\").cast(\"string\"),\n",
    "    F.col(\"graphical_appearance_name\"),\n",
    "    F.col(\"colour_group_code\").cast(\"string\"),\n",
    "    F.col(\"colour_group_name\"),\n",
    "    F.col(\"perceived_colour_value_id\").cast(\"string\"),\n",
    "    F.col(\"perceived_colour_value_name\"),\n",
    "    F.col(\"perceived_colour_master_id\").cast(\"string\"),\n",
    "    F.col(\"perceived_colour_master_name\"),\n",
    "    F.col(\"department_no\").cast(\"string\"),\n",
    "    F.col(\"department_name\"),\n",
    "    F.col(\"index_code\").cast(\"string\"),\n",
    "    F.col(\"index_name\"),\n",
    "    F.col(\"index_group_no\").cast(\"string\"),\n",
    "    F.col(\"index_group_name\"),\n",
    "    F.col(\"section_no\").cast(\"string\"),\n",
    "    F.col(\"section_name\"),\n",
    "    F.col(\"garment_group_no\").cast(\"string\"),\n",
    "    F.col(\"garment_group_name\"),\n",
    "    F.col(\"detail_desc\"),\n",
    ")"
   ]
  },
  {
   "cell_type": "code",
   "execution_count": 7,
   "id": "74127d2b",
   "metadata": {},
   "outputs": [
    {
     "name": "stderr",
     "output_type": "stream",
     "text": [
      "                                                                                \r"
     ]
    }
   ],
   "source": [
    "articles_std.write.mode(\"overwrite\").parquet(\"hdfs://localhost:9000/group_assignment/datalake/std/articles\")"
   ]
  },
  {
   "cell_type": "code",
   "execution_count": 8,
   "id": "856d677a",
   "metadata": {},
   "outputs": [
    {
     "name": "stdout",
     "output_type": "stream",
     "text": [
      "root\n",
      " |-- customer_id: string (nullable = true)\n",
      " |-- FN: double (nullable = true)\n",
      " |-- Active: double (nullable = true)\n",
      " |-- club_member_status: string (nullable = true)\n",
      " |-- fashion_news_frequency: string (nullable = true)\n",
      " |-- age: integer (nullable = true)\n",
      " |-- postal_code: string (nullable = true)\n",
      "\n"
     ]
    }
   ],
   "source": [
    "customers_raw.printSchema()"
   ]
  },
  {
   "cell_type": "code",
   "execution_count": 9,
   "id": "6c0ed8d1",
   "metadata": {},
   "outputs": [],
   "source": [
    "customers_std = customers_raw.select(\n",
    "    F.col(\"customer_id\"),\n",
    "    F.col(\"FN\").cast(\"string\"),\n",
    "    F.col(\"active\").cast(\"string\"),\n",
    "    F.col(\"club_member_status\"),\n",
    "    F.col(\"fashion_news_frequency\"),\n",
    "    F.col(\"age\"),\n",
    "    F.col(\"postal_code\").cast(\"string\"),\n",
    ")"
   ]
  },
  {
   "cell_type": "code",
   "execution_count": 10,
   "id": "3fe68226",
   "metadata": {},
   "outputs": [
    {
     "name": "stderr",
     "output_type": "stream",
     "text": [
      "                                                                                \r"
     ]
    }
   ],
   "source": [
    "customers_std.write.mode(\"overwrite\").parquet(\"hdfs://localhost:9000/group_assignment/datalake/std/customers\")"
   ]
  },
  {
   "cell_type": "code",
   "execution_count": 11,
   "id": "97dcda1f",
   "metadata": {},
   "outputs": [
    {
     "name": "stdout",
     "output_type": "stream",
     "text": [
      "root\n",
      " |-- t_dat: string (nullable = true)\n",
      " |-- customer_id: string (nullable = true)\n",
      " |-- article_id: integer (nullable = true)\n",
      " |-- price: double (nullable = true)\n",
      " |-- sales_channel_id: integer (nullable = true)\n",
      "\n"
     ]
    }
   ],
   "source": [
    "transactions_raw.printSchema()"
   ]
  },
  {
   "cell_type": "code",
   "execution_count": 12,
   "id": "32af5a50",
   "metadata": {},
   "outputs": [],
   "source": [
    "transactions_std = transactions_raw.select(\n",
    "    F.col(\"t_dat\"),\n",
    "    F.col(\"customer_id\"),\n",
    "    F.col(\"article_id\").cast(\"string\"),\n",
    "    F.col(\"price\"),\n",
    "    F.col(\"sales_channel_id\").cast(\"string\"),\n",
    ")"
   ]
  },
  {
   "cell_type": "code",
   "execution_count": 13,
   "id": "b9d838c6",
   "metadata": {},
   "outputs": [],
   "source": [
    "transactions_std = transactions_std.withColumn(\"year\", F.substring(\"t_dat\", 0, 4))\n",
    "transactions_std = transactions_std.withColumn(\"month\", F.substring(\"t_dat\", 6, 2))\n",
    "transactions_std = transactions_std.withColumn(\"day\", F.substring(\"t_dat\", 9, 2))"
   ]
  },
  {
   "cell_type": "code",
   "execution_count": 14,
   "id": "d43eb867",
   "metadata": {},
   "outputs": [
    {
     "name": "stderr",
     "output_type": "stream",
     "text": [
      "                                                                                \r"
     ]
    }
   ],
   "source": [
    "transactions_std.write.mode(\"overwrite\").parquet(\"hdfs://localhost:9000/group_assignment/datalake/std/transactions\")"
   ]
  },
  {
   "cell_type": "markdown",
   "id": "181256f5",
   "metadata": {},
   "source": [
    "### Working with our standardised datasets"
   ]
  },
  {
   "cell_type": "markdown",
   "id": "f10b789b",
   "metadata": {},
   "source": [
    "#### We load our files from our datalake/std folder and begin to operate on the datasets"
   ]
  },
  {
   "cell_type": "code",
   "execution_count": 15,
   "id": "f276c6d5",
   "metadata": {},
   "outputs": [],
   "source": [
    "articles_std = spark.read.parquet(\"hdfs://localhost:9000/group_assignment/datalake/std/articles\")"
   ]
  },
  {
   "cell_type": "code",
   "execution_count": 16,
   "id": "dbec52bd",
   "metadata": {},
   "outputs": [],
   "source": [
    "customers_std = spark.read.parquet(\"hdfs://localhost:9000/group_assignment/datalake/std/customers\")"
   ]
  },
  {
   "cell_type": "code",
   "execution_count": 17,
   "id": "47281c17",
   "metadata": {},
   "outputs": [],
   "source": [
    "transactions_std = spark.read.parquet(\"hdfs://localhost:9000/group_assignment/datalake/std/transactions\")"
   ]
  },
  {
   "cell_type": "markdown",
   "id": "69dd7a01",
   "metadata": {},
   "source": [
    "#  Analysing Customers Profiles"
   ]
  },
  {
   "cell_type": "code",
   "execution_count": 18,
   "id": "127b1fc1",
   "metadata": {},
   "outputs": [
    {
     "name": "stderr",
     "output_type": "stream",
     "text": [
      "                                                                                \r"
     ]
    },
    {
     "data": {
      "text/html": [
       "<div>\n",
       "<style scoped>\n",
       "    .dataframe tbody tr th:only-of-type {\n",
       "        vertical-align: middle;\n",
       "    }\n",
       "\n",
       "    .dataframe tbody tr th {\n",
       "        vertical-align: top;\n",
       "    }\n",
       "\n",
       "    .dataframe thead th {\n",
       "        text-align: right;\n",
       "    }\n",
       "</style>\n",
       "<table border=\"1\" class=\"dataframe\">\n",
       "  <thead>\n",
       "    <tr style=\"text-align: right;\">\n",
       "      <th></th>\n",
       "      <th>club_member_status</th>\n",
       "      <th>count</th>\n",
       "    </tr>\n",
       "  </thead>\n",
       "  <tbody>\n",
       "    <tr>\n",
       "      <th>0</th>\n",
       "      <td>ACTIVE</td>\n",
       "      <td>1272491</td>\n",
       "    </tr>\n",
       "    <tr>\n",
       "      <th>1</th>\n",
       "      <td>PRE-CREATE</td>\n",
       "      <td>92960</td>\n",
       "    </tr>\n",
       "    <tr>\n",
       "      <th>2</th>\n",
       "      <td>None</td>\n",
       "      <td>6062</td>\n",
       "    </tr>\n",
       "    <tr>\n",
       "      <th>3</th>\n",
       "      <td>LEFT CLUB</td>\n",
       "      <td>467</td>\n",
       "    </tr>\n",
       "  </tbody>\n",
       "</table>\n",
       "</div>"
      ],
      "text/plain": [
       "  club_member_status    count\n",
       "0             ACTIVE  1272491\n",
       "1         PRE-CREATE    92960\n",
       "2               None     6062\n",
       "3          LEFT CLUB      467"
      ]
     },
     "execution_count": 18,
     "metadata": {},
     "output_type": "execute_result"
    }
   ],
   "source": [
    "(customers_std.groupBy(\"club_member_status\")\n",
    "        .agg(\n",
    "            F.count(\"*\").alias(\"count\"))\n",
    "        .sort(F.col(\"count\").desc())\n",
    "        ).toPandas()"
   ]
  },
  {
   "cell_type": "code",
   "execution_count": 19,
   "id": "999b9e6c",
   "metadata": {},
   "outputs": [],
   "source": [
    "age_range = F.udf(lambda age: '< 20' if age < 20 else \n",
    "                       '20-25' if (age >= 20 and age < 25) else\n",
    "                       '25-30' if (age >= 25 and age < 30) else\n",
    "                       '30-35' if (age >= 30 and age < 35) else\n",
    "                       '35-40' if (age >= 35 and age < 40) else\n",
    "                       '40-45' if (age >= 40 and age < 45) else\n",
    "                       '45-50' if (age >= 45 and age < 50) else\n",
    "                       '50-55' if (age >= 50 and age < 55) else\n",
    "                       '55-60' if (age >= 55 and age < 60) else\n",
    "                       '60-65' if (age >= 60 and age < 65) else\n",
    "                       '65-70' if (age >= 65 and age < 70) else\n",
    "                        '75+'  if (age >= 70) else '')\n",
    "\n",
    "customers_std=customers_std.na.fill(value=0,subset=[\"age\"])\n",
    "customers_std=customers_std.withColumn('age_range',age_range(customers_std.age))"
   ]
  },
  {
   "cell_type": "code",
   "execution_count": 20,
   "id": "6bd3d4d8",
   "metadata": {
    "scrolled": true
   },
   "outputs": [
    {
     "name": "stderr",
     "output_type": "stream",
     "text": [
      "                                                                                \r"
     ]
    },
    {
     "data": {
      "text/html": [
       "<div>\n",
       "<style scoped>\n",
       "    .dataframe tbody tr th:only-of-type {\n",
       "        vertical-align: middle;\n",
       "    }\n",
       "\n",
       "    .dataframe tbody tr th {\n",
       "        vertical-align: top;\n",
       "    }\n",
       "\n",
       "    .dataframe thead th {\n",
       "        text-align: right;\n",
       "    }\n",
       "</style>\n",
       "<table border=\"1\" class=\"dataframe\">\n",
       "  <thead>\n",
       "    <tr style=\"text-align: right;\">\n",
       "      <th></th>\n",
       "      <th>age_range</th>\n",
       "      <th>count</th>\n",
       "    </tr>\n",
       "  </thead>\n",
       "  <tbody>\n",
       "    <tr>\n",
       "      <th>0</th>\n",
       "      <td>20-25</td>\n",
       "      <td>285586</td>\n",
       "    </tr>\n",
       "    <tr>\n",
       "      <th>1</th>\n",
       "      <td>25-30</td>\n",
       "      <td>242772</td>\n",
       "    </tr>\n",
       "    <tr>\n",
       "      <th>2</th>\n",
       "      <td>30-35</td>\n",
       "      <td>150520</td>\n",
       "    </tr>\n",
       "    <tr>\n",
       "      <th>3</th>\n",
       "      <td>50-55</td>\n",
       "      <td>135326</td>\n",
       "    </tr>\n",
       "    <tr>\n",
       "      <th>4</th>\n",
       "      <td>45-50</td>\n",
       "      <td>118625</td>\n",
       "    </tr>\n",
       "    <tr>\n",
       "      <th>5</th>\n",
       "      <td>55-60</td>\n",
       "      <td>90916</td>\n",
       "    </tr>\n",
       "    <tr>\n",
       "      <th>6</th>\n",
       "      <td>&lt; 20</td>\n",
       "      <td>87444</td>\n",
       "    </tr>\n",
       "    <tr>\n",
       "      <th>7</th>\n",
       "      <td>40-45</td>\n",
       "      <td>85493</td>\n",
       "    </tr>\n",
       "    <tr>\n",
       "      <th>8</th>\n",
       "      <td>35-40</td>\n",
       "      <td>83548</td>\n",
       "    </tr>\n",
       "    <tr>\n",
       "      <th>9</th>\n",
       "      <td>60-65</td>\n",
       "      <td>48148</td>\n",
       "    </tr>\n",
       "    <tr>\n",
       "      <th>10</th>\n",
       "      <td>65-70</td>\n",
       "      <td>24475</td>\n",
       "    </tr>\n",
       "    <tr>\n",
       "      <th>11</th>\n",
       "      <td>75+</td>\n",
       "      <td>19127</td>\n",
       "    </tr>\n",
       "  </tbody>\n",
       "</table>\n",
       "</div>"
      ],
      "text/plain": [
       "   age_range   count\n",
       "0      20-25  285586\n",
       "1      25-30  242772\n",
       "2      30-35  150520\n",
       "3      50-55  135326\n",
       "4      45-50  118625\n",
       "5      55-60   90916\n",
       "6       < 20   87444\n",
       "7      40-45   85493\n",
       "8      35-40   83548\n",
       "9      60-65   48148\n",
       "10     65-70   24475\n",
       "11       75+   19127"
      ]
     },
     "execution_count": 20,
     "metadata": {},
     "output_type": "execute_result"
    }
   ],
   "source": [
    "# Age ranges most frecuents in the customers\n",
    "\n",
    "(customers_std.groupBy(\"age_range\")\n",
    "        .agg(\n",
    "            F.count(\"*\").alias(\"count\"))\n",
    "        ).sort(F.col(\"count\").desc()).toPandas()"
   ]
  },
  {
   "cell_type": "markdown",
   "id": "df5e4b6f",
   "metadata": {},
   "source": [
    "# Analysing Transactions"
   ]
  },
  {
   "cell_type": "code",
   "execution_count": 21,
   "id": "b8775c7b",
   "metadata": {},
   "outputs": [
    {
     "name": "stderr",
     "output_type": "stream",
     "text": [
      "                                                                                \r"
     ]
    },
    {
     "data": {
      "text/html": [
       "<div>\n",
       "<style scoped>\n",
       "    .dataframe tbody tr th:only-of-type {\n",
       "        vertical-align: middle;\n",
       "    }\n",
       "\n",
       "    .dataframe tbody tr th {\n",
       "        vertical-align: top;\n",
       "    }\n",
       "\n",
       "    .dataframe thead th {\n",
       "        text-align: right;\n",
       "    }\n",
       "</style>\n",
       "<table border=\"1\" class=\"dataframe\">\n",
       "  <thead>\n",
       "    <tr style=\"text-align: right;\">\n",
       "      <th></th>\n",
       "      <th>is_weekend</th>\n",
       "      <th>count</th>\n",
       "    </tr>\n",
       "  </thead>\n",
       "  <tbody>\n",
       "    <tr>\n",
       "      <th>0</th>\n",
       "      <td>0</td>\n",
       "      <td>22705232</td>\n",
       "    </tr>\n",
       "    <tr>\n",
       "      <th>1</th>\n",
       "      <td>1</td>\n",
       "      <td>9083092</td>\n",
       "    </tr>\n",
       "  </tbody>\n",
       "</table>\n",
       "</div>"
      ],
      "text/plain": [
       "   is_weekend     count\n",
       "0           0  22705232\n",
       "1           1   9083092"
      ]
     },
     "execution_count": 21,
     "metadata": {},
     "output_type": "execute_result"
    }
   ],
   "source": [
    "transactions_gold=transactions_std.withColumn(\"is_weekend\",F.dayofweek(\"t_dat\").isin([1,7]).cast(\"int\"))\n",
    "\n",
    "transactions_gold.groupBy(\"is_weekend\").agg(F.count(\"*\").alias(\"count\")).sort(F.col(\"count\").desc()).toPandas()"
   ]
  },
  {
   "cell_type": "code",
   "execution_count": 23,
   "id": "0b6d1995",
   "metadata": {},
   "outputs": [
    {
     "name": "stderr",
     "output_type": "stream",
     "text": [
      "                                                                                \r"
     ]
    },
    {
     "data": {
      "text/html": [
       "<div>\n",
       "<style scoped>\n",
       "    .dataframe tbody tr th:only-of-type {\n",
       "        vertical-align: middle;\n",
       "    }\n",
       "\n",
       "    .dataframe tbody tr th {\n",
       "        vertical-align: top;\n",
       "    }\n",
       "\n",
       "    .dataframe thead th {\n",
       "        text-align: right;\n",
       "    }\n",
       "</style>\n",
       "<table border=\"1\" class=\"dataframe\">\n",
       "  <thead>\n",
       "    <tr style=\"text-align: right;\">\n",
       "      <th></th>\n",
       "      <th>is_weekend</th>\n",
       "      <th>count</th>\n",
       "    </tr>\n",
       "  </thead>\n",
       "  <tbody>\n",
       "    <tr>\n",
       "      <th>0</th>\n",
       "      <td>0</td>\n",
       "      <td>16157469</td>\n",
       "    </tr>\n",
       "    <tr>\n",
       "      <th>1</th>\n",
       "      <td>1</td>\n",
       "      <td>6222393</td>\n",
       "    </tr>\n",
       "  </tbody>\n",
       "</table>\n",
       "</div>"
      ],
      "text/plain": [
       "   is_weekend     count\n",
       "0           0  16157469\n",
       "1           1   6222393"
      ]
     },
     "execution_count": 23,
     "metadata": {},
     "output_type": "execute_result"
    }
   ],
   "source": [
    "#Analising sale via web\n",
    "\n",
    "transactions_gold.where(\"sales_channel_id==2\").groupBy(\"is_weekend\").agg(F.count(\"*\").alias(\"count\")).sort(F.col(\"count\").desc()).toPandas()"
   ]
  },
  {
   "cell_type": "code",
   "execution_count": 24,
   "id": "a12c4f33",
   "metadata": {},
   "outputs": [
    {
     "name": "stderr",
     "output_type": "stream",
     "text": [
      "                                                                                \r"
     ]
    },
    {
     "data": {
      "text/html": [
       "<div>\n",
       "<style scoped>\n",
       "    .dataframe tbody tr th:only-of-type {\n",
       "        vertical-align: middle;\n",
       "    }\n",
       "\n",
       "    .dataframe tbody tr th {\n",
       "        vertical-align: top;\n",
       "    }\n",
       "\n",
       "    .dataframe thead th {\n",
       "        text-align: right;\n",
       "    }\n",
       "</style>\n",
       "<table border=\"1\" class=\"dataframe\">\n",
       "  <thead>\n",
       "    <tr style=\"text-align: right;\">\n",
       "      <th></th>\n",
       "      <th>is_weekend</th>\n",
       "      <th>count</th>\n",
       "    </tr>\n",
       "  </thead>\n",
       "  <tbody>\n",
       "    <tr>\n",
       "      <th>0</th>\n",
       "      <td>0</td>\n",
       "      <td>6547763</td>\n",
       "    </tr>\n",
       "    <tr>\n",
       "      <th>1</th>\n",
       "      <td>1</td>\n",
       "      <td>2860699</td>\n",
       "    </tr>\n",
       "  </tbody>\n",
       "</table>\n",
       "</div>"
      ],
      "text/plain": [
       "   is_weekend    count\n",
       "0           0  6547763\n",
       "1           1  2860699"
      ]
     },
     "execution_count": 24,
     "metadata": {},
     "output_type": "execute_result"
    }
   ],
   "source": [
    "#Analising sale via offline\n",
    "transactions_gold.where(\"sales_channel_id==1\").groupBy(\"is_weekend\").agg(F.count(\"*\").alias(\"count\")).sort(F.col(\"count\").desc()).toPandas()"
   ]
  },
  {
   "cell_type": "markdown",
   "id": "db2020a6",
   "metadata": {},
   "source": [
    "# Analysing Articles"
   ]
  },
  {
   "cell_type": "code",
   "execution_count": 31,
   "id": "9d01e81f",
   "metadata": {},
   "outputs": [],
   "source": [
    "# We add colour coding to make a more visual appealing experience for the reader\n",
    "\n",
    "articles_gold=articles_std.withColumn(\"colour_symbol\",\n",
    "                       F.when((articles_std.colour_group_name).like(\"%Black%\"),F.lit(\"🖤\"))\\\n",
    "                      .when((articles_std.colour_group_name).like(\"%White%\"),F.lit(\"🤍\"))\\\n",
    "                      .when((articles_std.colour_group_name).like(\"%Blue%\"),F.lit(\"💙\"))\\\n",
    "                      .when((articles_std.colour_group_name).like(\"%Lilac Purple%\"),F.lit(\"💜\"))\\\n",
    "                      .when((articles_std.colour_group_name).like(\"%Red%\"),F.lit(\"♥\"))\\\n",
    "                      .when((articles_std.colour_group_name).like(\"%Orange%\"),F.lit(\"🧡\"))\\\n",
    "                      .when((articles_std.colour_group_name).like(\"%Green%\"),F.lit(\"💚\"))\\\n",
    "                      .when((articles_std.colour_group_name).like(\"%Yellow%\"),F.lit(\"💛\"))\\\n",
    "                      .when((articles_std.colour_group_name).like(\"%Pink%\"),F.lit(\"💖\"))\\\n",
    "                      .when((articles_std.colour_group_name).like(\"%Brown%\"),F.lit(\"🤎\"))\\\n",
    "                                      .otherwise(F.lit(None)))"
   ]
  },
  {
   "cell_type": "code",
   "execution_count": 32,
   "id": "0b3f9c7a",
   "metadata": {},
   "outputs": [
    {
     "data": {
      "text/html": [
       "<div>\n",
       "<style scoped>\n",
       "    .dataframe tbody tr th:only-of-type {\n",
       "        vertical-align: middle;\n",
       "    }\n",
       "\n",
       "    .dataframe tbody tr th {\n",
       "        vertical-align: top;\n",
       "    }\n",
       "\n",
       "    .dataframe thead th {\n",
       "        text-align: right;\n",
       "    }\n",
       "</style>\n",
       "<table border=\"1\" class=\"dataframe\">\n",
       "  <thead>\n",
       "    <tr style=\"text-align: right;\">\n",
       "      <th></th>\n",
       "      <th>index_group_name</th>\n",
       "      <th>product_group_name</th>\n",
       "      <th>count</th>\n",
       "    </tr>\n",
       "  </thead>\n",
       "  <tbody>\n",
       "    <tr>\n",
       "      <th>0</th>\n",
       "      <td>Ladieswear</td>\n",
       "      <td>Garment Upper body</td>\n",
       "      <td>14110</td>\n",
       "    </tr>\n",
       "    <tr>\n",
       "      <th>1</th>\n",
       "      <td>Baby/Children</td>\n",
       "      <td>Garment Upper body</td>\n",
       "      <td>13178</td>\n",
       "    </tr>\n",
       "    <tr>\n",
       "      <th>2</th>\n",
       "      <td>Baby/Children</td>\n",
       "      <td>Garment Lower body</td>\n",
       "      <td>7371</td>\n",
       "    </tr>\n",
       "    <tr>\n",
       "      <th>3</th>\n",
       "      <td>Divided</td>\n",
       "      <td>Garment Upper body</td>\n",
       "      <td>6999</td>\n",
       "    </tr>\n",
       "    <tr>\n",
       "      <th>4</th>\n",
       "      <td>Menswear</td>\n",
       "      <td>Garment Upper body</td>\n",
       "      <td>6855</td>\n",
       "    </tr>\n",
       "    <tr>\n",
       "      <th>...</th>\n",
       "      <td>...</td>\n",
       "      <td>...</td>\n",
       "      <td>...</td>\n",
       "    </tr>\n",
       "    <tr>\n",
       "      <th>56</th>\n",
       "      <td>Sport</td>\n",
       "      <td>Shoes</td>\n",
       "      <td>2</td>\n",
       "    </tr>\n",
       "    <tr>\n",
       "      <th>57</th>\n",
       "      <td>Baby/Children</td>\n",
       "      <td>Bags</td>\n",
       "      <td>2</td>\n",
       "    </tr>\n",
       "    <tr>\n",
       "      <th>58</th>\n",
       "      <td>Baby/Children</td>\n",
       "      <td>Fun</td>\n",
       "      <td>2</td>\n",
       "    </tr>\n",
       "    <tr>\n",
       "      <th>59</th>\n",
       "      <td>Menswear</td>\n",
       "      <td>Items</td>\n",
       "      <td>1</td>\n",
       "    </tr>\n",
       "    <tr>\n",
       "      <th>60</th>\n",
       "      <td>Ladieswear</td>\n",
       "      <td>Bags</td>\n",
       "      <td>1</td>\n",
       "    </tr>\n",
       "  </tbody>\n",
       "</table>\n",
       "<p>61 rows × 3 columns</p>\n",
       "</div>"
      ],
      "text/plain": [
       "   index_group_name  product_group_name  count\n",
       "0        Ladieswear  Garment Upper body  14110\n",
       "1     Baby/Children  Garment Upper body  13178\n",
       "2     Baby/Children  Garment Lower body   7371\n",
       "3           Divided  Garment Upper body   6999\n",
       "4          Menswear  Garment Upper body   6855\n",
       "..              ...                 ...    ...\n",
       "56            Sport               Shoes      2\n",
       "57    Baby/Children                Bags      2\n",
       "58    Baby/Children                 Fun      2\n",
       "59         Menswear               Items      1\n",
       "60       Ladieswear                Bags      1\n",
       "\n",
       "[61 rows x 3 columns]"
      ]
     },
     "execution_count": 32,
     "metadata": {},
     "output_type": "execute_result"
    }
   ],
   "source": [
    "# Filter showing products and their dependent index name\n",
    "\n",
    "columns=['index_group_name','product_group_name']\n",
    "articles_gold.groupBy(columns).agg(F.count(\"*\").alias(\"count\")).sort(F.col(\"count\").desc()).toPandas()"
   ]
  },
  {
   "cell_type": "code",
   "execution_count": 33,
   "id": "35a3df20",
   "metadata": {},
   "outputs": [
    {
     "name": "stderr",
     "output_type": "stream",
     "text": [
      "                                                                                \r"
     ]
    }
   ],
   "source": [
    "articles_gold.write.mode(\"overwrite\").parquet(\"hdfs://localhost:9000/group_assignment/datalake/gold/articles\")"
   ]
  },
  {
   "cell_type": "markdown",
   "id": "684b4c81",
   "metadata": {},
   "source": [
    "# Analysing Main Table"
   ]
  },
  {
   "cell_type": "code",
   "execution_count": 36,
   "id": "d91bed31",
   "metadata": {},
   "outputs": [],
   "source": [
    "# Join the three tables\n",
    "\n",
    "transactions_total = (transactions_gold.alias(\"t\")\n",
    "                                   .join(customers_std.alias(\"c\"),F.col(\"t.customer_id\")==F.col(\"c.customer_id\"),\"inner\")\n",
    "                                   .join(articles_gold.alias(\"a\"),F.col(\"t.article_id\")==F.col(\"a.article_id\"),\"inner\")\n",
    "                                   .select(\"t.customer_id\",\"a.prod_name\",\n",
    "                                           \"c.club_member_status\",\n",
    "                                           \"c.age_range\",\n",
    "                                           \"a.product_group_name\",\n",
    "                                           \"c.Active\",\n",
    "                                           \"t.year\",\n",
    "                                           \"t.month\",\n",
    "                                           \"a.index_group_name\",\n",
    "                                           \"a.Colour_symbol\",\n",
    "                                           \"a.prod_name\").cache())"
   ]
  },
  {
   "cell_type": "code",
   "execution_count": 37,
   "id": "1b86ce38",
   "metadata": {},
   "outputs": [
    {
     "name": "stderr",
     "output_type": "stream",
     "text": [
      "                                                                                \r"
     ]
    },
    {
     "data": {
      "text/html": [
       "<div>\n",
       "<style scoped>\n",
       "    .dataframe tbody tr th:only-of-type {\n",
       "        vertical-align: middle;\n",
       "    }\n",
       "\n",
       "    .dataframe tbody tr th {\n",
       "        vertical-align: top;\n",
       "    }\n",
       "\n",
       "    .dataframe thead th {\n",
       "        text-align: right;\n",
       "    }\n",
       "</style>\n",
       "<table border=\"1\" class=\"dataframe\">\n",
       "  <thead>\n",
       "    <tr style=\"text-align: right;\">\n",
       "      <th></th>\n",
       "      <th>age_range</th>\n",
       "      <th>product_group_name</th>\n",
       "      <th>count</th>\n",
       "    </tr>\n",
       "  </thead>\n",
       "  <tbody>\n",
       "    <tr>\n",
       "      <th>0</th>\n",
       "      <td>25-30</td>\n",
       "      <td>Garment Upper body</td>\n",
       "      <td>2766163</td>\n",
       "    </tr>\n",
       "    <tr>\n",
       "      <th>1</th>\n",
       "      <td>25-30</td>\n",
       "      <td>Garment Lower body</td>\n",
       "      <td>1530253</td>\n",
       "    </tr>\n",
       "    <tr>\n",
       "      <th>2</th>\n",
       "      <td>25-30</td>\n",
       "      <td>Garment Full body</td>\n",
       "      <td>823102</td>\n",
       "    </tr>\n",
       "    <tr>\n",
       "      <th>3</th>\n",
       "      <td>25-30</td>\n",
       "      <td>Swimwear</td>\n",
       "      <td>664194</td>\n",
       "    </tr>\n",
       "    <tr>\n",
       "      <th>4</th>\n",
       "      <td>25-30</td>\n",
       "      <td>Underwear</td>\n",
       "      <td>623378</td>\n",
       "    </tr>\n",
       "    <tr>\n",
       "      <th>5</th>\n",
       "      <td>25-30</td>\n",
       "      <td>Accessories</td>\n",
       "      <td>374208</td>\n",
       "    </tr>\n",
       "    <tr>\n",
       "      <th>6</th>\n",
       "      <td>25-30</td>\n",
       "      <td>Shoes</td>\n",
       "      <td>182971</td>\n",
       "    </tr>\n",
       "    <tr>\n",
       "      <th>7</th>\n",
       "      <td>25-30</td>\n",
       "      <td>Socks &amp; Tights</td>\n",
       "      <td>158792</td>\n",
       "    </tr>\n",
       "    <tr>\n",
       "      <th>8</th>\n",
       "      <td>25-30</td>\n",
       "      <td>Nightwear</td>\n",
       "      <td>75996</td>\n",
       "    </tr>\n",
       "    <tr>\n",
       "      <th>9</th>\n",
       "      <td>25-30</td>\n",
       "      <td>Unknown</td>\n",
       "      <td>22597</td>\n",
       "    </tr>\n",
       "    <tr>\n",
       "      <th>10</th>\n",
       "      <td>25-30</td>\n",
       "      <td>Bags</td>\n",
       "      <td>1570</td>\n",
       "    </tr>\n",
       "    <tr>\n",
       "      <th>11</th>\n",
       "      <td>25-30</td>\n",
       "      <td>Items</td>\n",
       "      <td>1190</td>\n",
       "    </tr>\n",
       "    <tr>\n",
       "      <th>12</th>\n",
       "      <td>25-30</td>\n",
       "      <td>Cosmetic</td>\n",
       "      <td>148</td>\n",
       "    </tr>\n",
       "    <tr>\n",
       "      <th>13</th>\n",
       "      <td>25-30</td>\n",
       "      <td>Furniture</td>\n",
       "      <td>147</td>\n",
       "    </tr>\n",
       "    <tr>\n",
       "      <th>14</th>\n",
       "      <td>25-30</td>\n",
       "      <td>Underwear/nightwear</td>\n",
       "      <td>106</td>\n",
       "    </tr>\n",
       "    <tr>\n",
       "      <th>15</th>\n",
       "      <td>25-30</td>\n",
       "      <td>Garment and Shoe care</td>\n",
       "      <td>65</td>\n",
       "    </tr>\n",
       "    <tr>\n",
       "      <th>16</th>\n",
       "      <td>25-30</td>\n",
       "      <td>Stationery</td>\n",
       "      <td>46</td>\n",
       "    </tr>\n",
       "    <tr>\n",
       "      <th>17</th>\n",
       "      <td>25-30</td>\n",
       "      <td>Interior textile</td>\n",
       "      <td>12</td>\n",
       "    </tr>\n",
       "  </tbody>\n",
       "</table>\n",
       "</div>"
      ],
      "text/plain": [
       "   age_range     product_group_name    count\n",
       "0      25-30     Garment Upper body  2766163\n",
       "1      25-30     Garment Lower body  1530253\n",
       "2      25-30      Garment Full body   823102\n",
       "3      25-30               Swimwear   664194\n",
       "4      25-30              Underwear   623378\n",
       "5      25-30            Accessories   374208\n",
       "6      25-30                  Shoes   182971\n",
       "7      25-30         Socks & Tights   158792\n",
       "8      25-30              Nightwear    75996\n",
       "9      25-30                Unknown    22597\n",
       "10     25-30                   Bags     1570\n",
       "11     25-30                  Items     1190\n",
       "12     25-30               Cosmetic      148\n",
       "13     25-30              Furniture      147\n",
       "14     25-30    Underwear/nightwear      106\n",
       "15     25-30  Garment and Shoe care       65\n",
       "16     25-30             Stationery       46\n",
       "17     25-30       Interior textile       12"
      ]
     },
     "execution_count": 37,
     "metadata": {},
     "output_type": "execute_result"
    }
   ],
   "source": [
    "#frequent products buyed by clients in range 25-30\n",
    "\n",
    "columns=[ \"age_range\",\"product_group_name\",]\n",
    "transactions_total.where(\"age_range='25-30'\").groupBy(columns).agg(F.count(\"*\").alias(\"count\")).sort(F.col(\"count\").desc()).toPandas()"
   ]
  },
  {
   "cell_type": "code",
   "execution_count": 38,
   "id": "3eabeeee",
   "metadata": {},
   "outputs": [
    {
     "name": "stderr",
     "output_type": "stream",
     "text": [
      "                                                                                \r"
     ]
    },
    {
     "data": {
      "text/html": [
       "<div>\n",
       "<style scoped>\n",
       "    .dataframe tbody tr th:only-of-type {\n",
       "        vertical-align: middle;\n",
       "    }\n",
       "\n",
       "    .dataframe tbody tr th {\n",
       "        vertical-align: top;\n",
       "    }\n",
       "\n",
       "    .dataframe thead th {\n",
       "        text-align: right;\n",
       "    }\n",
       "</style>\n",
       "<table border=\"1\" class=\"dataframe\">\n",
       "  <thead>\n",
       "    <tr style=\"text-align: right;\">\n",
       "      <th></th>\n",
       "      <th>age_range</th>\n",
       "      <th>product_group_name</th>\n",
       "      <th>count</th>\n",
       "    </tr>\n",
       "  </thead>\n",
       "  <tbody>\n",
       "    <tr>\n",
       "      <th>0</th>\n",
       "      <td>20-25</td>\n",
       "      <td>Garment Upper body</td>\n",
       "      <td>2223410</td>\n",
       "    </tr>\n",
       "    <tr>\n",
       "      <th>1</th>\n",
       "      <td>20-25</td>\n",
       "      <td>Garment Lower body</td>\n",
       "      <td>1206357</td>\n",
       "    </tr>\n",
       "    <tr>\n",
       "      <th>2</th>\n",
       "      <td>20-25</td>\n",
       "      <td>Swimwear</td>\n",
       "      <td>616400</td>\n",
       "    </tr>\n",
       "    <tr>\n",
       "      <th>3</th>\n",
       "      <td>20-25</td>\n",
       "      <td>Garment Full body</td>\n",
       "      <td>577960</td>\n",
       "    </tr>\n",
       "    <tr>\n",
       "      <th>4</th>\n",
       "      <td>20-25</td>\n",
       "      <td>Underwear</td>\n",
       "      <td>554906</td>\n",
       "    </tr>\n",
       "    <tr>\n",
       "      <th>5</th>\n",
       "      <td>20-25</td>\n",
       "      <td>Accessories</td>\n",
       "      <td>348098</td>\n",
       "    </tr>\n",
       "    <tr>\n",
       "      <th>6</th>\n",
       "      <td>20-25</td>\n",
       "      <td>Shoes</td>\n",
       "      <td>117515</td>\n",
       "    </tr>\n",
       "    <tr>\n",
       "      <th>7</th>\n",
       "      <td>20-25</td>\n",
       "      <td>Socks &amp; Tights</td>\n",
       "      <td>116265</td>\n",
       "    </tr>\n",
       "    <tr>\n",
       "      <th>8</th>\n",
       "      <td>20-25</td>\n",
       "      <td>Nightwear</td>\n",
       "      <td>52028</td>\n",
       "    </tr>\n",
       "    <tr>\n",
       "      <th>9</th>\n",
       "      <td>20-25</td>\n",
       "      <td>Unknown</td>\n",
       "      <td>17078</td>\n",
       "    </tr>\n",
       "    <tr>\n",
       "      <th>10</th>\n",
       "      <td>20-25</td>\n",
       "      <td>Bags</td>\n",
       "      <td>1956</td>\n",
       "    </tr>\n",
       "    <tr>\n",
       "      <th>11</th>\n",
       "      <td>20-25</td>\n",
       "      <td>Items</td>\n",
       "      <td>1380</td>\n",
       "    </tr>\n",
       "    <tr>\n",
       "      <th>12</th>\n",
       "      <td>20-25</td>\n",
       "      <td>Cosmetic</td>\n",
       "      <td>102</td>\n",
       "    </tr>\n",
       "    <tr>\n",
       "      <th>13</th>\n",
       "      <td>20-25</td>\n",
       "      <td>Furniture</td>\n",
       "      <td>62</td>\n",
       "    </tr>\n",
       "    <tr>\n",
       "      <th>14</th>\n",
       "      <td>20-25</td>\n",
       "      <td>Stationery</td>\n",
       "      <td>56</td>\n",
       "    </tr>\n",
       "    <tr>\n",
       "      <th>15</th>\n",
       "      <td>20-25</td>\n",
       "      <td>Garment and Shoe care</td>\n",
       "      <td>46</td>\n",
       "    </tr>\n",
       "    <tr>\n",
       "      <th>16</th>\n",
       "      <td>20-25</td>\n",
       "      <td>Underwear/nightwear</td>\n",
       "      <td>24</td>\n",
       "    </tr>\n",
       "    <tr>\n",
       "      <th>17</th>\n",
       "      <td>20-25</td>\n",
       "      <td>Interior textile</td>\n",
       "      <td>4</td>\n",
       "    </tr>\n",
       "    <tr>\n",
       "      <th>18</th>\n",
       "      <td>20-25</td>\n",
       "      <td>Fun</td>\n",
       "      <td>2</td>\n",
       "    </tr>\n",
       "  </tbody>\n",
       "</table>\n",
       "</div>"
      ],
      "text/plain": [
       "   age_range     product_group_name    count\n",
       "0      20-25     Garment Upper body  2223410\n",
       "1      20-25     Garment Lower body  1206357\n",
       "2      20-25               Swimwear   616400\n",
       "3      20-25      Garment Full body   577960\n",
       "4      20-25              Underwear   554906\n",
       "5      20-25            Accessories   348098\n",
       "6      20-25                  Shoes   117515\n",
       "7      20-25         Socks & Tights   116265\n",
       "8      20-25              Nightwear    52028\n",
       "9      20-25                Unknown    17078\n",
       "10     20-25                   Bags     1956\n",
       "11     20-25                  Items     1380\n",
       "12     20-25               Cosmetic      102\n",
       "13     20-25              Furniture       62\n",
       "14     20-25             Stationery       56\n",
       "15     20-25  Garment and Shoe care       46\n",
       "16     20-25    Underwear/nightwear       24\n",
       "17     20-25       Interior textile        4\n",
       "18     20-25                    Fun        2"
      ]
     },
     "execution_count": 38,
     "metadata": {},
     "output_type": "execute_result"
    }
   ],
   "source": [
    "#frequent products buyed by clients in range 20-25\n",
    "\n",
    "columns=[ \"age_range\",\"product_group_name\",]\n",
    "transactions_total.where(\"age_range='20-25'\").groupBy(columns).agg(F.count(\"*\").alias(\"count\")).sort(F.col(\"count\").desc()).toPandas()"
   ]
  },
  {
   "cell_type": "code",
   "execution_count": 39,
   "id": "beebb1e5",
   "metadata": {},
   "outputs": [
    {
     "name": "stderr",
     "output_type": "stream",
     "text": [
      "                                                                                \r"
     ]
    },
    {
     "data": {
      "text/html": [
       "<div>\n",
       "<style scoped>\n",
       "    .dataframe tbody tr th:only-of-type {\n",
       "        vertical-align: middle;\n",
       "    }\n",
       "\n",
       "    .dataframe tbody tr th {\n",
       "        vertical-align: top;\n",
       "    }\n",
       "\n",
       "    .dataframe thead th {\n",
       "        text-align: right;\n",
       "    }\n",
       "</style>\n",
       "<table border=\"1\" class=\"dataframe\">\n",
       "  <thead>\n",
       "    <tr style=\"text-align: right;\">\n",
       "      <th></th>\n",
       "      <th>age_range</th>\n",
       "      <th>count</th>\n",
       "    </tr>\n",
       "  </thead>\n",
       "  <tbody>\n",
       "    <tr>\n",
       "      <th>0</th>\n",
       "      <td>25-30</td>\n",
       "      <td>5345517</td>\n",
       "    </tr>\n",
       "    <tr>\n",
       "      <th>1</th>\n",
       "      <td>20-25</td>\n",
       "      <td>3934958</td>\n",
       "    </tr>\n",
       "    <tr>\n",
       "      <th>2</th>\n",
       "      <td>30-35</td>\n",
       "      <td>3310399</td>\n",
       "    </tr>\n",
       "    <tr>\n",
       "      <th>3</th>\n",
       "      <td>50-55</td>\n",
       "      <td>2138298</td>\n",
       "    </tr>\n",
       "    <tr>\n",
       "      <th>4</th>\n",
       "      <td>45-50</td>\n",
       "      <td>1919596</td>\n",
       "    </tr>\n",
       "    <tr>\n",
       "      <th>5</th>\n",
       "      <td>35-40</td>\n",
       "      <td>1559073</td>\n",
       "    </tr>\n",
       "    <tr>\n",
       "      <th>6</th>\n",
       "      <td>40-45</td>\n",
       "      <td>1408583</td>\n",
       "    </tr>\n",
       "    <tr>\n",
       "      <th>7</th>\n",
       "      <td>55-60</td>\n",
       "      <td>1314988</td>\n",
       "    </tr>\n",
       "    <tr>\n",
       "      <th>8</th>\n",
       "      <td>60-65</td>\n",
       "      <td>570467</td>\n",
       "    </tr>\n",
       "    <tr>\n",
       "      <th>9</th>\n",
       "      <td>&lt; 20</td>\n",
       "      <td>514385</td>\n",
       "    </tr>\n",
       "  </tbody>\n",
       "</table>\n",
       "</div>"
      ],
      "text/plain": [
       "  age_range    count\n",
       "0     25-30  5345517\n",
       "1     20-25  3934958\n",
       "2     30-35  3310399\n",
       "3     50-55  2138298\n",
       "4     45-50  1919596\n",
       "5     35-40  1559073\n",
       "6     40-45  1408583\n",
       "7     55-60  1314988\n",
       "8     60-65   570467\n",
       "9      < 20   514385"
      ]
     },
     "execution_count": 39,
     "metadata": {},
     "output_type": "execute_result"
    }
   ],
   "source": [
    "#age_range people that buy in web\n",
    "\n",
    "(transactions_total.where(\"sales_channel_id==2\").groupBy(\"age_range\")\n",
    "        .agg(\n",
    "            F.count(\"*\").alias(\"count\"))\n",
    "        .sort(F.col(\"count\").desc())\n",
    "        ).limit(10).toPandas()"
   ]
  },
  {
   "cell_type": "code",
   "execution_count": 45,
   "id": "a341fac0",
   "metadata": {},
   "outputs": [
    {
     "name": "stderr",
     "output_type": "stream",
     "text": [
      "                                                                                \r"
     ]
    },
    {
     "data": {
      "text/html": [
       "<div>\n",
       "<style scoped>\n",
       "    .dataframe tbody tr th:only-of-type {\n",
       "        vertical-align: middle;\n",
       "    }\n",
       "\n",
       "    .dataframe tbody tr th {\n",
       "        vertical-align: top;\n",
       "    }\n",
       "\n",
       "    .dataframe thead th {\n",
       "        text-align: right;\n",
       "    }\n",
       "</style>\n",
       "<table border=\"1\" class=\"dataframe\">\n",
       "  <thead>\n",
       "    <tr style=\"text-align: right;\">\n",
       "      <th></th>\n",
       "      <th>age_range</th>\n",
       "      <th>colour_symbol</th>\n",
       "      <th>count</th>\n",
       "    </tr>\n",
       "  </thead>\n",
       "  <tbody>\n",
       "  </tbody>\n",
       "</table>\n",
       "</div>"
      ],
      "text/plain": [
       "Empty DataFrame\n",
       "Columns: [age_range, colour_symbol, count]\n",
       "Index: []"
      ]
     },
     "execution_count": 45,
     "metadata": {},
     "output_type": "execute_result"
    },
    {
     "name": "stderr",
     "output_type": "stream",
     "text": [
      "[Stage 147:============================>                            (2 + 2) / 4]\r"
     ]
    }
   ],
   "source": [
    "#colour prefered by age range in the product product_group_name\n",
    "\n",
    "columns=[\"age_range\",\"colour_symbol\"]\n",
    "(transactions_total.where(\"sales_channel_id==2 and product_group_name=='Garment Upper body'\").groupBy(columns)\n",
    "        .agg(\n",
    "            F.count(\"*\").alias(\"count\"))\n",
    "        .sort(F.col(\"count\").desc())\n",
    "        ).limit(10).toPandas()"
   ]
  },
  {
   "cell_type": "code",
   "execution_count": 41,
   "id": "dd1a5521",
   "metadata": {},
   "outputs": [
    {
     "name": "stderr",
     "output_type": "stream",
     "text": [
      "                                                                                \r"
     ]
    },
    {
     "data": {
      "text/html": [
       "<div>\n",
       "<style scoped>\n",
       "    .dataframe tbody tr th:only-of-type {\n",
       "        vertical-align: middle;\n",
       "    }\n",
       "\n",
       "    .dataframe tbody tr th {\n",
       "        vertical-align: top;\n",
       "    }\n",
       "\n",
       "    .dataframe thead th {\n",
       "        text-align: right;\n",
       "    }\n",
       "</style>\n",
       "<table border=\"1\" class=\"dataframe\">\n",
       "  <thead>\n",
       "    <tr style=\"text-align: right;\">\n",
       "      <th></th>\n",
       "      <th>customer_id</th>\n",
       "      <th>count</th>\n",
       "    </tr>\n",
       "  </thead>\n",
       "  <tbody>\n",
       "    <tr>\n",
       "      <th>0</th>\n",
       "      <td>be1981ab818cf4ef6765b2ecaea7a2cbf14ccd6e8a7ee985513d9e8e53c6d91b</td>\n",
       "      <td>1895</td>\n",
       "    </tr>\n",
       "    <tr>\n",
       "      <th>1</th>\n",
       "      <td>b4db5e5259234574edfff958e170fe3a5e13b6f146752ca066abca3c156acc71</td>\n",
       "      <td>1441</td>\n",
       "    </tr>\n",
       "    <tr>\n",
       "      <th>2</th>\n",
       "      <td>49beaacac0c7801c2ce2d189efe525fe80b5d37e46ed05b50a4cd88e34d0748f</td>\n",
       "      <td>1364</td>\n",
       "    </tr>\n",
       "    <tr>\n",
       "      <th>3</th>\n",
       "      <td>a65f77281a528bf5c1e9f270141d601d116e1df33bf9df512f495ee06647a9cc</td>\n",
       "      <td>1361</td>\n",
       "    </tr>\n",
       "    <tr>\n",
       "      <th>4</th>\n",
       "      <td>cd04ec2726dd58a8c753e0d6423e57716fd9ebcf2f14ed6012e7e5bea016b4d6</td>\n",
       "      <td>1237</td>\n",
       "    </tr>\n",
       "    <tr>\n",
       "      <th>5</th>\n",
       "      <td>55d15396193dfd45836af3a6269a079efea339e875eff42cc0c228b002548a9d</td>\n",
       "      <td>1208</td>\n",
       "    </tr>\n",
       "    <tr>\n",
       "      <th>6</th>\n",
       "      <td>c140410d72a41ee5e2e3ba3d7f5a860f337f1b5e41c27cf9bda5517c8774f8fa</td>\n",
       "      <td>1170</td>\n",
       "    </tr>\n",
       "    <tr>\n",
       "      <th>7</th>\n",
       "      <td>8df45859ccd71ef1e48e2ee9d1c65d5728c31c46ae957d659fa4e5c3af6cc076</td>\n",
       "      <td>1169</td>\n",
       "    </tr>\n",
       "    <tr>\n",
       "      <th>8</th>\n",
       "      <td>03d0011487606c37c1b1ed147fc72f285a50c05f00b9712e0fc3da400c864296</td>\n",
       "      <td>1157</td>\n",
       "    </tr>\n",
       "    <tr>\n",
       "      <th>9</th>\n",
       "      <td>6cc121e5cc202d2bf344ffe795002bdbf87178054bcda2e57161f0ef810a4b55</td>\n",
       "      <td>1143</td>\n",
       "    </tr>\n",
       "    <tr>\n",
       "      <th>10</th>\n",
       "      <td>e34f8aa5e7c8c258523ea3e5f5f13168b6c21a9e8bffccd515dd5cef56126efb</td>\n",
       "      <td>1117</td>\n",
       "    </tr>\n",
       "    <tr>\n",
       "      <th>11</th>\n",
       "      <td>3493c55a7fe252c84a9a03db338f5be7afbce1edbca12f3a908fac9b983692f2</td>\n",
       "      <td>1115</td>\n",
       "    </tr>\n",
       "    <tr>\n",
       "      <th>12</th>\n",
       "      <td>0bf4c6fd4e9d33f9bfb807bb78348cbf5c565846ff4006acf5c1b9aea77b0e54</td>\n",
       "      <td>1099</td>\n",
       "    </tr>\n",
       "    <tr>\n",
       "      <th>13</th>\n",
       "      <td>e6498c7514c61d3c24669f49753dc83fdff3ec1ba13902dd9184c959d8f0b249</td>\n",
       "      <td>1068</td>\n",
       "    </tr>\n",
       "    <tr>\n",
       "      <th>14</th>\n",
       "      <td>d80ed4ababfa96812e22b911629e6bcbf5093769051ea447e2b696ac98a3dae9</td>\n",
       "      <td>1066</td>\n",
       "    </tr>\n",
       "    <tr>\n",
       "      <th>15</th>\n",
       "      <td>1320d4b3dd6481cde05bb80fb7ca37397f70470b9afb96aeca5d41175acaf836</td>\n",
       "      <td>1059</td>\n",
       "    </tr>\n",
       "    <tr>\n",
       "      <th>16</th>\n",
       "      <td>a76cf5ea515d09f22b7fe3e8ea3c1944316bd6264a90e26cef126242ef3c5e11</td>\n",
       "      <td>1038</td>\n",
       "    </tr>\n",
       "    <tr>\n",
       "      <th>17</th>\n",
       "      <td>e238725cbff3774b711407cc000f42c0ddabf6b07eb0e311ffb5fc72e862a34b</td>\n",
       "      <td>1022</td>\n",
       "    </tr>\n",
       "    <tr>\n",
       "      <th>18</th>\n",
       "      <td>689f4eda82fdf3d9bfe8e524bbd0d931c4d7690f2234d3e48779f924aaf4103d</td>\n",
       "      <td>1022</td>\n",
       "    </tr>\n",
       "    <tr>\n",
       "      <th>19</th>\n",
       "      <td>e97c3a6c680cd3569df10f901a61fdffaf8f70300f6adf6e266b80c87d54245a</td>\n",
       "      <td>1009</td>\n",
       "    </tr>\n",
       "  </tbody>\n",
       "</table>\n",
       "</div>"
      ],
      "text/plain": [
       "                                                         customer_id  count\n",
       "0   be1981ab818cf4ef6765b2ecaea7a2cbf14ccd6e8a7ee985513d9e8e53c6d91b   1895\n",
       "1   b4db5e5259234574edfff958e170fe3a5e13b6f146752ca066abca3c156acc71   1441\n",
       "2   49beaacac0c7801c2ce2d189efe525fe80b5d37e46ed05b50a4cd88e34d0748f   1364\n",
       "3   a65f77281a528bf5c1e9f270141d601d116e1df33bf9df512f495ee06647a9cc   1361\n",
       "4   cd04ec2726dd58a8c753e0d6423e57716fd9ebcf2f14ed6012e7e5bea016b4d6   1237\n",
       "5   55d15396193dfd45836af3a6269a079efea339e875eff42cc0c228b002548a9d   1208\n",
       "6   c140410d72a41ee5e2e3ba3d7f5a860f337f1b5e41c27cf9bda5517c8774f8fa   1170\n",
       "7   8df45859ccd71ef1e48e2ee9d1c65d5728c31c46ae957d659fa4e5c3af6cc076   1169\n",
       "8   03d0011487606c37c1b1ed147fc72f285a50c05f00b9712e0fc3da400c864296   1157\n",
       "9   6cc121e5cc202d2bf344ffe795002bdbf87178054bcda2e57161f0ef810a4b55   1143\n",
       "10  e34f8aa5e7c8c258523ea3e5f5f13168b6c21a9e8bffccd515dd5cef56126efb   1117\n",
       "11  3493c55a7fe252c84a9a03db338f5be7afbce1edbca12f3a908fac9b983692f2   1115\n",
       "12  0bf4c6fd4e9d33f9bfb807bb78348cbf5c565846ff4006acf5c1b9aea77b0e54   1099\n",
       "13  e6498c7514c61d3c24669f49753dc83fdff3ec1ba13902dd9184c959d8f0b249   1068\n",
       "14  d80ed4ababfa96812e22b911629e6bcbf5093769051ea447e2b696ac98a3dae9   1066\n",
       "15  1320d4b3dd6481cde05bb80fb7ca37397f70470b9afb96aeca5d41175acaf836   1059\n",
       "16  a76cf5ea515d09f22b7fe3e8ea3c1944316bd6264a90e26cef126242ef3c5e11   1038\n",
       "17  e238725cbff3774b711407cc000f42c0ddabf6b07eb0e311ffb5fc72e862a34b   1022\n",
       "18  689f4eda82fdf3d9bfe8e524bbd0d931c4d7690f2234d3e48779f924aaf4103d   1022\n",
       "19  e97c3a6c680cd3569df10f901a61fdffaf8f70300f6adf6e266b80c87d54245a   1009"
      ]
     },
     "execution_count": 41,
     "metadata": {},
     "output_type": "execute_result"
    }
   ],
   "source": [
    "#frequent customers \n",
    "\n",
    "frec_customer = transactions_total.groupBy(\"customer_id\").count().where(\"count > 1000\").orderBy(F.col(\"count\").desc())\n",
    "frec_customer.toPandas()"
   ]
  },
  {
   "cell_type": "code",
   "execution_count": 42,
   "id": "9ff6ed12",
   "metadata": {},
   "outputs": [
    {
     "name": "stderr",
     "output_type": "stream",
     "text": [
      "                                                                                \r"
     ]
    },
    {
     "data": {
      "text/html": [
       "<div>\n",
       "<style scoped>\n",
       "    .dataframe tbody tr th:only-of-type {\n",
       "        vertical-align: middle;\n",
       "    }\n",
       "\n",
       "    .dataframe tbody tr th {\n",
       "        vertical-align: top;\n",
       "    }\n",
       "\n",
       "    .dataframe thead th {\n",
       "        text-align: right;\n",
       "    }\n",
       "</style>\n",
       "<table border=\"1\" class=\"dataframe\">\n",
       "  <thead>\n",
       "    <tr style=\"text-align: right;\">\n",
       "      <th></th>\n",
       "      <th>year</th>\n",
       "      <th>month</th>\n",
       "      <th>count</th>\n",
       "    </tr>\n",
       "  </thead>\n",
       "  <tbody>\n",
       "    <tr>\n",
       "      <th>0</th>\n",
       "      <td>2019</td>\n",
       "      <td>06</td>\n",
       "      <td>1906202</td>\n",
       "    </tr>\n",
       "    <tr>\n",
       "      <th>1</th>\n",
       "      <td>2019</td>\n",
       "      <td>07</td>\n",
       "      <td>1807494</td>\n",
       "    </tr>\n",
       "    <tr>\n",
       "      <th>2</th>\n",
       "      <td>2020</td>\n",
       "      <td>06</td>\n",
       "      <td>1764507</td>\n",
       "    </tr>\n",
       "    <tr>\n",
       "      <th>3</th>\n",
       "      <td>2019</td>\n",
       "      <td>05</td>\n",
       "      <td>1560319</td>\n",
       "    </tr>\n",
       "    <tr>\n",
       "      <th>4</th>\n",
       "      <td>2019</td>\n",
       "      <td>04</td>\n",
       "      <td>1476454</td>\n",
       "    </tr>\n",
       "    <tr>\n",
       "      <th>5</th>\n",
       "      <td>2018</td>\n",
       "      <td>10</td>\n",
       "      <td>1397040</td>\n",
       "    </tr>\n",
       "    <tr>\n",
       "      <th>6</th>\n",
       "      <td>2020</td>\n",
       "      <td>05</td>\n",
       "      <td>1361815</td>\n",
       "    </tr>\n",
       "    <tr>\n",
       "      <th>7</th>\n",
       "      <td>2020</td>\n",
       "      <td>07</td>\n",
       "      <td>1351502</td>\n",
       "    </tr>\n",
       "    <tr>\n",
       "      <th>8</th>\n",
       "      <td>2020</td>\n",
       "      <td>04</td>\n",
       "      <td>1340882</td>\n",
       "    </tr>\n",
       "    <tr>\n",
       "      <th>9</th>\n",
       "      <td>2019</td>\n",
       "      <td>03</td>\n",
       "      <td>1286750</td>\n",
       "    </tr>\n",
       "    <tr>\n",
       "      <th>10</th>\n",
       "      <td>2018</td>\n",
       "      <td>11</td>\n",
       "      <td>1270619</td>\n",
       "    </tr>\n",
       "    <tr>\n",
       "      <th>11</th>\n",
       "      <td>2019</td>\n",
       "      <td>01</td>\n",
       "      <td>1263471</td>\n",
       "    </tr>\n",
       "    <tr>\n",
       "      <th>12</th>\n",
       "      <td>2019</td>\n",
       "      <td>08</td>\n",
       "      <td>1253530</td>\n",
       "    </tr>\n",
       "    <tr>\n",
       "      <th>13</th>\n",
       "      <td>2020</td>\n",
       "      <td>08</td>\n",
       "      <td>1237192</td>\n",
       "    </tr>\n",
       "    <tr>\n",
       "      <th>14</th>\n",
       "      <td>2019</td>\n",
       "      <td>09</td>\n",
       "      <td>1227178</td>\n",
       "    </tr>\n",
       "    <tr>\n",
       "      <th>15</th>\n",
       "      <td>2019</td>\n",
       "      <td>11</td>\n",
       "      <td>1198033</td>\n",
       "    </tr>\n",
       "    <tr>\n",
       "      <th>16</th>\n",
       "      <td>2019</td>\n",
       "      <td>02</td>\n",
       "      <td>1152412</td>\n",
       "    </tr>\n",
       "    <tr>\n",
       "      <th>17</th>\n",
       "      <td>2018</td>\n",
       "      <td>12</td>\n",
       "      <td>1148827</td>\n",
       "    </tr>\n",
       "    <tr>\n",
       "      <th>18</th>\n",
       "      <td>2019</td>\n",
       "      <td>10</td>\n",
       "      <td>1146772</td>\n",
       "    </tr>\n",
       "    <tr>\n",
       "      <th>19</th>\n",
       "      <td>2019</td>\n",
       "      <td>12</td>\n",
       "      <td>1118315</td>\n",
       "    </tr>\n",
       "    <tr>\n",
       "      <th>20</th>\n",
       "      <td>2020</td>\n",
       "      <td>01</td>\n",
       "      <td>1076354</td>\n",
       "    </tr>\n",
       "    <tr>\n",
       "      <th>21</th>\n",
       "      <td>2020</td>\n",
       "      <td>03</td>\n",
       "      <td>1047752</td>\n",
       "    </tr>\n",
       "    <tr>\n",
       "      <th>22</th>\n",
       "      <td>2020</td>\n",
       "      <td>02</td>\n",
       "      <td>1001859</td>\n",
       "    </tr>\n",
       "    <tr>\n",
       "      <th>23</th>\n",
       "      <td>2020</td>\n",
       "      <td>09</td>\n",
       "      <td>798269</td>\n",
       "    </tr>\n",
       "    <tr>\n",
       "      <th>24</th>\n",
       "      <td>2018</td>\n",
       "      <td>09</td>\n",
       "      <td>594776</td>\n",
       "    </tr>\n",
       "  </tbody>\n",
       "</table>\n",
       "</div>"
      ],
      "text/plain": [
       "    year month    count\n",
       "0   2019    06  1906202\n",
       "1   2019    07  1807494\n",
       "2   2020    06  1764507\n",
       "3   2019    05  1560319\n",
       "4   2019    04  1476454\n",
       "5   2018    10  1397040\n",
       "6   2020    05  1361815\n",
       "7   2020    07  1351502\n",
       "8   2020    04  1340882\n",
       "9   2019    03  1286750\n",
       "10  2018    11  1270619\n",
       "11  2019    01  1263471\n",
       "12  2019    08  1253530\n",
       "13  2020    08  1237192\n",
       "14  2019    09  1227178\n",
       "15  2019    11  1198033\n",
       "16  2019    02  1152412\n",
       "17  2018    12  1148827\n",
       "18  2019    10  1146772\n",
       "19  2019    12  1118315\n",
       "20  2020    01  1076354\n",
       "21  2020    03  1047752\n",
       "22  2020    02  1001859\n",
       "23  2020    09   798269\n",
       "24  2018    09   594776"
      ]
     },
     "execution_count": 42,
     "metadata": {},
     "output_type": "execute_result"
    }
   ],
   "source": [
    "#months with more pruchases\n",
    "\n",
    "time=[\"year\",\"month\"]\n",
    "\n",
    "months = transactions_total.groupBy(time).count().orderBy(F.col(\"count\").desc())\n",
    "months.toPandas()"
   ]
  }
 ],
 "metadata": {
  "kernelspec": {
   "display_name": "Python 3 (ipykernel)",
   "language": "python",
   "name": "python3"
  },
  "language_info": {
   "codemirror_mode": {
    "name": "ipython",
    "version": 3
   },
   "file_extension": ".py",
   "mimetype": "text/x-python",
   "name": "python",
   "nbconvert_exporter": "python",
   "pygments_lexer": "ipython3",
   "version": "3.9.2"
  }
 },
 "nbformat": 4,
 "nbformat_minor": 5
}
